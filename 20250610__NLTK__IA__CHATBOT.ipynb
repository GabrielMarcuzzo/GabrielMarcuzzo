{
  "nbformat": 4,
  "nbformat_minor": 0,
  "metadata": {
    "colab": {
      "provenance": [],
      "authorship_tag": "ABX9TyNlgyLKv+CHq0Z3okOjOXzi",
      "include_colab_link": true
    },
    "kernelspec": {
      "name": "python3",
      "display_name": "Python 3"
    },
    "language_info": {
      "name": "python"
    }
  },
  "cells": [
    {
      "cell_type": "markdown",
      "metadata": {
        "id": "view-in-github",
        "colab_type": "text"
      },
      "source": [
        "<a href=\"https://colab.research.google.com/github/GabrielMarcuzzo/GabrielMarcuzzo/blob/main/20250610__NLTK__IA__CHATBOT.ipynb\" target=\"_parent\"><img src=\"https://colab.research.google.com/assets/colab-badge.svg\" alt=\"Open In Colab\"/></a>"
      ]
    },
    {
      "cell_type": "code",
      "execution_count": null,
      "metadata": {
        "id": "KDrlQaS_CPqK"
      },
      "outputs": [],
      "source": [
        "# PASSO 1 Instalar a biblioteca nltk\n",
        "pip install nltk"
      ]
    },
    {
      "cell_type": "code",
      "source": [
        "#  PASSO 2 Importar a biblioteca nltk\n",
        "import nltk\n",
        "from nltk.chat.util import Chat, reflections\n",
        "\n",
        "# PASSO 3: Baixar os dados de chatbot da biblioteca NLTK\n",
        "nltk.download('punkt')\n",
        "nltk.download('wordnet')\n",
        "\n",
        "# PASSO 4: Definição de padrões de respostas\n",
        "patterns = [\n",
        "    (r'oi|olá|Bom dia!', ['oi!', 'Olá!', 'Bom dia!']),\n",
        "    (r'Tudo bem?', ['Tudo bom e você?', 'Estou bem. Obrigado por perguntar.']),\n",
        "    (r'Qual o seu nome?', ['Você pode me chamar de SuaIA.', 'Meu nome é SuaIA']),\n",
        "    (r'(.*) Seu nome?', ['Pode me chamar SuaIA.', 'Me chamo SuaIA.']),\n",
        "    (r'Qual a sua profissão?', ['Sou uma assistente virtual.', 'Sou uma IA de assistência virtual.']),\n",
        "    # Você pode adicionar padrões de respostas nas linhas acima\n",
        "]\n",
        "\n",
        "# PASSO 5: Criar um chatbot\n",
        "chatbot = Chat(patterns, reflections)\n",
        "\n",
        "# PASSO 6: Comerçar uma conversa\n",
        "print(\"Olá! Sou a SuaIA. Como posso te ajudar hoje?\")\n",
        "while True:\n",
        "    user_input = input(\"Você: \")\n",
        "    response = chatbot.respond(user_input)\n",
        "    print(\"SuaIA:\", response)"
      ],
      "metadata": {
        "id": "UaLmg84tCXkg"
      },
      "execution_count": null,
      "outputs": []
    }
  ]
}